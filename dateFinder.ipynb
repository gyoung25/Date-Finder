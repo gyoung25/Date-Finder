{
 "cells": [
  {
   "cell_type": "markdown",
   "id": "9d78bbf0",
   "metadata": {},
   "source": [
    "This code is based on an assignment from the University of Michigan's Coursera course titled Appled Text Mining in Python.\n",
    "\n",
    "This code is intended to demonstrate a nontrivial use of RegEx for text data extraction.\n",
    "\n",
    "The code looks through a dataset of 500 typed medical notes and extracts dates from each.\n",
    "\n",
    "The formatting of the dates in the notes varies quite a bit. For example, dates could be written 08/01/2023; 8/1/23; August 1, 2013; Aug 1, 2013; Aug. 1, 2013; 1 Aug 2013; Aug 2013 (no day); 2023 (no day or month), etc.\n",
    "\n",
    "Assumptions: dates missing a day will be assigned the first day of the month, 01. Dates missing a day and month will be assigned January first of the given year.\n"
   ]
  },
  {
   "cell_type": "code",
   "execution_count": 1,
   "id": "ff20f9f3",
   "metadata": {},
   "outputs": [
    {
     "data": {
      "text/plain": [
       "0         03/25/93 Total time of visit (in minutes):\\n\n",
       "1                       6/18/85 Primary Care Doctor:\\n\n",
       "2    sshe plans to move as of 7/8/71 In-Home Servic...\n",
       "3                7 on 9/27/75 Audit C Score Current:\\n\n",
       "4    2/6/96 sleep studyPain Treatment Pain Level (N...\n",
       "5                    .Per 7/06/79 Movement D/O note:\\n\n",
       "6    4, 5/18/78 Patient's thoughts about current su...\n",
       "7    10/24/89 CPT Code: 90801 - Psychiatric Diagnos...\n",
       "8                         3/7/86 SOS-10 Total Score:\\n\n",
       "9             (4/10/71)Score-1Audit C Score Current:\\n\n",
       "dtype: object"
      ]
     },
     "execution_count": 1,
     "metadata": {},
     "output_type": "execute_result"
    }
   ],
   "source": [
    "import pandas as pd\n",
    "import re\n",
    "\n",
    "doc = []\n",
    "with open('dates.txt') as file:\n",
    "    for line in file:\n",
    "        doc.append(line)\n",
    "\n",
    "df = pd.Series(doc)\n",
    "df.head(10)"
   ]
  },
  {
   "cell_type": "code",
   "execution_count": 6,
   "id": "1b059068",
   "metadata": {},
   "outputs": [
    {
     "name": "stdout",
     "output_type": "stream",
     "text": [
      "The head of the sorted records looks like \n",
      "9    1971-04-10\n",
      "84   1971-05-18\n",
      "2    1971-07-08\n",
      "53   1971-07-11\n",
      "28   1971-09-12\n",
      "dtype: datetime64[ns]\n",
      "and the tail looks like \n",
      "427   2016-05-01\n",
      "141   2016-05-30\n",
      "186   2016-10-13\n",
      "161   2016-10-19\n",
      "413   2016-11-01\n",
      "dtype: datetime64[ns]\n",
      "The oldest medical record is from 1971-04-10 and the most recent is from 2016-11-01.\n"
     ]
    }
   ],
   "source": [
    "def date_sorter():\n",
    "    import re\n",
    "    order = None\n",
    "    dates = []\n",
    "    missed = 0\n",
    "    found = 0\n",
    "    for i,line in enumerate(df):\n",
    "        #catch all dates of the form [M]M-[D]D-YYYY or [M]M-YYYY or [M]M/[D]D/YYYY or [M]M/YYYY\n",
    "        date_num1 = re.search(r'((0[1-9]|1[012]|[1-9])(\\/|-)((0[1-9]|[12][0-9]|3[01]|[1-9])(\\/|-))*((19|20)\\d{2}))',line)\n",
    "        #catch all dates of the form [M]M-[D]D-YY or [M]M/[D]D/YY\n",
    "        date_num2 = re.search(r'((0[1-9]|1[012]|[1-9])(\\/|-)((0[1-9]|[12][0-9]|3[01]|[1-9])(\\/|-))(\\d{2}))',line)\n",
    "        #catch all dates of the form YYYY\n",
    "        date_num3 = re.search(r'((19|20)\\d{2})', line)\n",
    "        #catch all dates of the form [D]D Month [YY]YY\n",
    "        date_str1 = re.search(r'(0[1-9]|[12][0-9]|3[01]|[1-9])\\s(Jan|Feb|Mar|Apr|May|Jun|Jul|Aug|Sep|Oct|Nov|Dec)[\\.,\\w]*\\s((19|20)\\d{2}|\\d{2})',line)\n",
    "        #catch all dates of the form Month [D]D [YY]YY \n",
    "        date_str2 = re.search(r'(Jan|Feb|Mar|Apr|May|Jun|Jul|Aug|Sep|Oct|Nov|Dec)[\\.,\\w]*[-\\s](0[1-9]|[12][0-9]|3[01]|[1-9])*\\w*,*\\s*((19|20)\\d{2}|\\d{2})',line)\n",
    "        \n",
    "        # Note: the order of the RegEx searches below matters. For example, if a date is written MM/DD/YYYY, \n",
    "        # then both date_num1 and date_num2 would catch it, but date_num2 would not return the full year, only\n",
    "        # the first two digits of the four-digit year. We must therefore collect all dates of this form using\n",
    "        # date_num1, then move on the the remaining dates in a numerical format (that is, the ones of the form\n",
    "        # MM/DD/YY) after date_num1 misses them.\n",
    "        if date_num1 != None:\n",
    "            dates.append(date_num1[0])\n",
    "        elif date_num2 != None:\n",
    "            if re.search(r'\\/\\d{2}$',date_num2[0]) != None:\n",
    "                date_num2 = re.sub(r'\\/\\d{2}$',\"/19\"+str(date_num2[0][-2:]),date_num2[0])\n",
    "                dates.append(date_num2)\n",
    "            else:\n",
    "                dates.append(date_num2[0])\n",
    "        elif date_str1 != None:\n",
    "            dates.append(date_str1[0])\n",
    "        elif date_str2 != None:\n",
    "            dates.append(date_str2[0])\n",
    "        elif date_num3 != None:\n",
    "            dates.append(date_num3[0])\n",
    "        else:\n",
    "            print(line)\n",
    "            missed += 1\n",
    "            print(f'Missed line {i}')\n",
    "    # Store the dates in a pandas Series\n",
    "    dates_series = pd.Series(dates)\n",
    "    # Manual corrections: the months of two dates in this dataset were misspelled.\n",
    "    dates_series[298] = 'January 1993'\n",
    "    dates_series[313] = 'December 1978'\n",
    "    \n",
    "    # Convert the dates collected into datetime format for consistent formatting and easier analysis\n",
    "    dt_series = pd.to_datetime(dates_series)\n",
    "    # Sort this list of dates in ascending order\n",
    "    dt_series.sort_values(inplace = True, kind = 'mergesort')\n",
    "    #print(missed)\n",
    "    return dt_series\n",
    "dates = date_sorter()\n",
    "print(f'The head of the sorted records looks like \\n{dates.head()}')\n",
    "print(f'and the tail looks like \\n{dates.tail()}')\n",
    "print(f'The oldest medical record is from {dates.iloc[0].date()} and the most recent is from {dates.iloc[-1].date()}.')\n"
   ]
  },
  {
   "cell_type": "code",
   "execution_count": null,
   "id": "32875f17",
   "metadata": {},
   "outputs": [],
   "source": []
  }
 ],
 "metadata": {
  "kernelspec": {
   "display_name": "Python 3 (ipykernel)",
   "language": "python",
   "name": "python3"
  },
  "language_info": {
   "codemirror_mode": {
    "name": "ipython",
    "version": 3
   },
   "file_extension": ".py",
   "mimetype": "text/x-python",
   "name": "python",
   "nbconvert_exporter": "python",
   "pygments_lexer": "ipython3",
   "version": "3.10.8"
  }
 },
 "nbformat": 4,
 "nbformat_minor": 5
}
